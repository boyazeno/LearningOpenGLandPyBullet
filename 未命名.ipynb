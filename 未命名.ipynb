{
 "cells": [
  {
   "cell_type": "code",
   "execution_count": 1,
   "id": "virgin-festival",
   "metadata": {},
   "outputs": [],
   "source": [
    "import sys\n",
    "from PyQt5.QtWidgets import QApplication, QWidget"
   ]
  },
  {
   "cell_type": "code",
   "execution_count": 2,
   "id": "joint-muslim",
   "metadata": {},
   "outputs": [],
   "source": [
    "def main():\n",
    "\n",
    "    app = QApplication(sys.argv)\n",
    "\n",
    "    w = QWidget()\n",
    "    w.resize(250, 150)\n",
    "    w.move(300, 300)\n",
    "    w.setWindowTitle('Simple')\n",
    "    w.show()\n",
    "\n",
    "    app.exec_()"
   ]
  },
  {
   "cell_type": "code",
   "execution_count": 1,
   "id": "right-archive",
   "metadata": {},
   "outputs": [],
   "source": [
    "import pybullet as p"
   ]
  },
  {
   "cell_type": "code",
   "execution_count": 2,
   "id": "crazy-chocolate",
   "metadata": {},
   "outputs": [],
   "source": [
    "from collada import Collada"
   ]
  },
  {
   "cell_type": "code",
   "execution_count": 3,
   "id": "suited-delta",
   "metadata": {},
   "outputs": [],
   "source": [
    "m = Collada(\"./resource/model/meshes/ur5/visual/base.dae\")"
   ]
  },
  {
   "cell_type": "code",
   "execution_count": 14,
   "id": "coupled-protein",
   "metadata": {},
   "outputs": [],
   "source": [
    "prim=m.geometries[0].primitives[1]"
   ]
  },
  {
   "cell_type": "code",
   "execution_count": 17,
   "id": "federal-allocation",
   "metadata": {},
   "outputs": [],
   "source": [
    "prim.generateNormals()"
   ]
  },
  {
   "cell_type": "code",
   "execution_count": 24,
   "id": "celtic-trailer",
   "metadata": {},
   "outputs": [
    {
     "data": {
      "text/plain": [
       "45"
      ]
     },
     "execution_count": 24,
     "metadata": {},
     "output_type": "execute_result"
    }
   ],
   "source": [
    "len(prim.vertex_index)//3"
   ]
  },
  {
   "cell_type": "code",
   "execution_count": 25,
   "id": "adjacent-centre",
   "metadata": {},
   "outputs": [],
   "source": [
    "from stl import mesh"
   ]
  },
  {
   "cell_type": "code",
   "execution_count": 27,
   "id": "headed-sucking",
   "metadata": {},
   "outputs": [],
   "source": [
    "m = mesh.Mesh.from_file(\"./resource/model/meshes/ur5/collision/base.stl\")"
   ]
  },
  {
   "cell_type": "code",
   "execution_count": 35,
   "id": "underlying-proposition",
   "metadata": {},
   "outputs": [
    {
     "data": {
      "text/plain": [
       "array([[ 0.05629869,  0.0144452 ,  0.02099978, ..., -0.05774136,\n",
       "        -0.00664446,  0.02099984],\n",
       "       [ 0.01307628,  0.05663248,  0.02099978, ..., -0.05774136,\n",
       "        -0.00664446,  0.02099984],\n",
       "       [-0.05774136, -0.00664446,  0.02099984, ..., -0.01056861,\n",
       "         0.05715339,  0.0209998 ],\n",
       "       ...,\n",
       "       [-0.00234965, -0.10999983,  0.00070453, ..., -0.00200191,\n",
       "        -0.07261029,  0.00071912],\n",
       "       [-0.00509534, -0.10999995,  0.00415427, ..., -0.00234965,\n",
       "        -0.10999983,  0.00070453],\n",
       "       [-0.00509534, -0.10999995,  0.00415427, ..., -0.00426863,\n",
       "        -0.07246498,  0.00250807]], dtype=float32)"
      ]
     },
     "execution_count": 35,
     "metadata": {},
     "output_type": "execute_result"
    }
   ],
   "source": [
    "m.points"
   ]
  },
  {
   "cell_type": "code",
   "execution_count": 41,
   "id": "vanilla-trinity",
   "metadata": {},
   "outputs": [],
   "source": [
    "points = m.vectors.reshape(m.vectors.size//3,3)"
   ]
  },
  {
   "cell_type": "code",
   "execution_count": 42,
   "id": "broadband-board",
   "metadata": {},
   "outputs": [
    {
     "data": {
      "text/plain": [
       "(1734, 3)"
      ]
     },
     "execution_count": 42,
     "metadata": {},
     "output_type": "execute_result"
    }
   ],
   "source": [
    "points.shape"
   ]
  },
  {
   "cell_type": "code",
   "execution_count": 43,
   "id": "departmental-victory",
   "metadata": {},
   "outputs": [],
   "source": [
    "import numpy as np"
   ]
  },
  {
   "cell_type": "code",
   "execution_count": 56,
   "id": "reported-gentleman",
   "metadata": {},
   "outputs": [],
   "source": [
    "points_n=np.unique(points,axis=0).tolist()\n",
    "normals_n=np.unique(m.normals,axis=0).tolist()"
   ]
  },
  {
   "cell_type": "code",
   "execution_count": 55,
   "id": "amateur-lafayette",
   "metadata": {},
   "outputs": [
    {
     "data": {
      "text/plain": [
       "1734"
      ]
     },
     "execution_count": 55,
     "metadata": {},
     "output_type": "execute_result"
    }
   ],
   "source": [
    "idx = []\n",
    "#points=points.tolist()\n",
    "for pt in points:\n",
    "    idx.append(points_n.index(pt))\n",
    "len(idx)"
   ]
  },
  {
   "cell_type": "code",
   "execution_count": 49,
   "id": "ecological-experiment",
   "metadata": {},
   "outputs": [
    {
     "ename": "ValueError",
     "evalue": "[1] is not in list",
     "output_type": "error",
     "traceback": [
      "\u001b[0;31m---------------------------------------------------------------------------\u001b[0m",
      "\u001b[0;31mValueError\u001b[0m                                Traceback (most recent call last)",
      "\u001b[0;32m<ipython-input-49-522859460975>\u001b[0m in \u001b[0;36m<module>\u001b[0;34m\u001b[0m\n\u001b[1;32m      1\u001b[0m \u001b[0ma\u001b[0m\u001b[0;34m=\u001b[0m\u001b[0;34m[\u001b[0m\u001b[0;34m[\u001b[0m\u001b[0;36m1\u001b[0m\u001b[0;34m,\u001b[0m\u001b[0;36m2\u001b[0m\u001b[0;34m]\u001b[0m\u001b[0;34m,\u001b[0m\u001b[0;34m[\u001b[0m\u001b[0;36m5\u001b[0m\u001b[0;34m,\u001b[0m\u001b[0;36m6\u001b[0m\u001b[0;34m]\u001b[0m\u001b[0;34m]\u001b[0m\u001b[0;34m\u001b[0m\u001b[0;34m\u001b[0m\u001b[0m\n\u001b[0;32m----> 2\u001b[0;31m \u001b[0ma\u001b[0m\u001b[0;34m.\u001b[0m\u001b[0mindex\u001b[0m\u001b[0;34m(\u001b[0m\u001b[0;34m[\u001b[0m\u001b[0;36m1\u001b[0m\u001b[0;34m]\u001b[0m\u001b[0;34m)\u001b[0m\u001b[0;34m\u001b[0m\u001b[0;34m\u001b[0m\u001b[0m\n\u001b[0m",
      "\u001b[0;31mValueError\u001b[0m: [1] is not in list"
     ]
    }
   ],
   "source": [
    "a=[[1,2],[5,6]]\n",
    "a.index([1])"
   ]
  },
  {
   "cell_type": "code",
   "execution_count": 59,
   "id": "frozen-stability",
   "metadata": {},
   "outputs": [
    {
     "data": {
      "text/plain": [
       "578"
      ]
     },
     "execution_count": 59,
     "metadata": {},
     "output_type": "execute_result"
    }
   ],
   "source": [
    "m.vectors.shape[0]"
   ]
  },
  {
   "cell_type": "code",
   "execution_count": 60,
   "id": "proprietary-backing",
   "metadata": {},
   "outputs": [],
   "source": [
    "a=[[1,2,3],[10,20,30],[100,200,300],[1000,2000,3000]]"
   ]
  },
  {
   "cell_type": "code",
   "execution_count": 64,
   "id": "olympic-insider",
   "metadata": {},
   "outputs": [
    {
     "data": {
      "text/plain": [
       "[1, 10, 100, 1000]"
      ]
     },
     "execution_count": 64,
     "metadata": {},
     "output_type": "execute_result"
    }
   ],
   "source": [
    "[i[0]for i in a]"
   ]
  },
  {
   "cell_type": "code",
   "execution_count": 69,
   "id": "large-smith",
   "metadata": {},
   "outputs": [],
   "source": [
    "a=np.array(a,dtype=np.float32)"
   ]
  },
  {
   "cell_type": "code",
   "execution_count": 70,
   "id": "stretch-columbus",
   "metadata": {},
   "outputs": [
    {
     "data": {
      "text/plain": [
       "(12, 4)"
      ]
     },
     "execution_count": 70,
     "metadata": {},
     "output_type": "execute_result"
    }
   ],
   "source": [
    "a.strides"
   ]
  },
  {
   "cell_type": "code",
   "execution_count": 71,
   "id": "civilian-milan",
   "metadata": {},
   "outputs": [
    {
     "data": {
      "text/plain": [
       "(4, 3)"
      ]
     },
     "execution_count": 71,
     "metadata": {},
     "output_type": "execute_result"
    }
   ],
   "source": [
    "a.shape"
   ]
  },
  {
   "cell_type": "code",
   "execution_count": 76,
   "id": "ahead-beatles",
   "metadata": {},
   "outputs": [],
   "source": [
    "class A():\n",
    "    def __init__(self,a):\n",
    "        self.a=a\n",
    "    def __repr__(self):\n",
    "        return str(self.a)"
   ]
  },
  {
   "cell_type": "code",
   "execution_count": 84,
   "id": "nutritional-singles",
   "metadata": {},
   "outputs": [
    {
     "name": "stdout",
     "output_type": "stream",
     "text": [
      "[1, 2]\n",
      "[10, 20]\n"
     ]
    }
   ],
   "source": [
    "import copy\n",
    "l1=[A(1),A(2)]\n",
    "l2=copy.deepcopy(l1)\n",
    "l2[0].a = 10\n",
    "l2[1].a = 20\n",
    "print(l1)\n",
    "print(l2)"
   ]
  },
  {
   "cell_type": "code",
   "execution_count": 86,
   "id": "tracked-hometown",
   "metadata": {},
   "outputs": [
    {
     "name": "stdout",
     "output_type": "stream",
     "text": [
      "[6, 7]\n",
      "[60, 70]\n"
     ]
    }
   ],
   "source": [
    "for i,j in zip(l1,l2):\n",
    "    i.a+=5\n",
    "    j.a+=50\n",
    "print(l1)\n",
    "print(l2)"
   ]
  },
  {
   "cell_type": "code",
   "execution_count": null,
   "id": "downtown-session",
   "metadata": {},
   "outputs": [],
   "source": []
  },
  {
   "cell_type": "code",
   "execution_count": null,
   "id": "quality-knock",
   "metadata": {},
   "outputs": [],
   "source": []
  }
 ],
 "metadata": {
  "kernelspec": {
   "display_name": "RL_pytorch",
   "language": "python",
   "name": "rl_pytorch"
  },
  "language_info": {
   "codemirror_mode": {
    "name": "ipython",
    "version": 3
   },
   "file_extension": ".py",
   "mimetype": "text/x-python",
   "name": "python",
   "nbconvert_exporter": "python",
   "pygments_lexer": "ipython3",
   "version": "3.7.5"
  }
 },
 "nbformat": 4,
 "nbformat_minor": 5
}
